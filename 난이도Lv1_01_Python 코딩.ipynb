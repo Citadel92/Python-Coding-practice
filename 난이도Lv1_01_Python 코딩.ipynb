{
 "cells": [
  {
   "cell_type": "markdown",
   "metadata": {},
   "source": [
    "[출처] 코딩도장 : https://codingdojang.com/scode/585?answer_mode=hide"
   ]
  },
  {
   "cell_type": "markdown",
   "metadata": {},
   "source": [
    "# 문제 : Lv. 1어느 숫자가 중간값을 가지는 숫자일까?\n",
    "\n",
    "3개의 숫자를 입력으로 받고 3개의 숫자 중에 중간값을 가지는 숫자를 출력하세요.  \n",
    "\n",
    "ex1) 2, 5, 3 => 3 ex2) 4, 6, 4 => 4\n"
   ]
  },
  {
   "cell_type": "code",
   "execution_count": 15,
   "metadata": {},
   "outputs": [],
   "source": [
    "import statistics"
   ]
  },
  {
   "cell_type": "code",
   "execution_count": 20,
   "metadata": {},
   "outputs": [
    {
     "name": "stdout",
     "output_type": "stream",
     "text": [
      "3개의 숫자를 입력하세요 : 45 90 60\n",
      "3개의 숫자 중에 중간값 :  60\n"
     ]
    }
   ],
   "source": [
    "num = input(\"3개의 숫자를 입력하세요 : \")\n",
    "\n",
    "median = str(num).split(' ')\n",
    "\n",
    "data = []\n",
    "for i in median:\n",
    "    data.append(i)\n",
    "\n",
    "result = statistics.median(data)\n",
    "print('3개의 숫자 중에 중간값 : ', result)\n",
    "    "
   ]
  },
  {
   "cell_type": "code",
   "execution_count": null,
   "metadata": {},
   "outputs": [],
   "source": []
  }
 ],
 "metadata": {
  "kernelspec": {
   "display_name": "Python 3",
   "language": "python",
   "name": "python3"
  },
  "language_info": {
   "codemirror_mode": {
    "name": "ipython",
    "version": 3
   },
   "file_extension": ".py",
   "mimetype": "text/x-python",
   "name": "python",
   "nbconvert_exporter": "python",
   "pygments_lexer": "ipython3",
   "version": "3.8.5"
  }
 },
 "nbformat": 4,
 "nbformat_minor": 4
}
